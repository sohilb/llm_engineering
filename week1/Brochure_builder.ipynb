{
 "cells": [
  {
   "cell_type": "code",
   "execution_count": 81,
   "metadata": {},
   "outputs": [],
   "source": [
    "from bs4 import BeautifulSoup\n",
    "import requests\n",
    "from openai import OpenAI\n",
    "from dotenv import load_dotenv\n",
    "import os\n",
    "from IPython.display import display, Markdown, update_display\n",
    "import json"
   ]
  },
  {
   "cell_type": "code",
   "execution_count": 69,
   "metadata": {},
   "outputs": [],
   "source": [
    "# loading environment variables\n",
    "load_dotenv()\n",
    "api_key = os.getenv(\"OPENAI_API_KEY\")\n",
    "\n",
    "openai = OpenAI()\n",
    "MODEL = \"gpt-4o-mini\""
   ]
  },
  {
   "cell_type": "code",
   "execution_count": 37,
   "metadata": {},
   "outputs": [],
   "source": [
    "headers = {\n",
    " \"User-Agent\": \"Mozilla/5.0 (Windows NT 10.0; Win64; x64) AppleWebKit/537.36 (KHTML, like Gecko) Chrome/117.0.0.0 Safari/537.36\"\n",
    "}\n",
    "\n",
    "class Website:\n",
    "\n",
    "    def __init__(self, url):\n",
    "        self.url = url\n",
    "        response = requests.get(url, headers=headers)\n",
    "        self.body = response.content\n",
    "        soup = BeautifulSoup(self.body, 'html.parser')\n",
    "        self.title = soup.title.string if soup.title else \"No title found\"\n",
    "        if soup.body:\n",
    "            for irrelevant in soup.body([\"script\", \"style\", \"img\", \"input\"]):\n",
    "                irrelevant.decompose()\n",
    "            self.text = soup.body.get_text(separator=\"\\n\", strip=True)\n",
    "        else:\n",
    "            self.text = \"\"\n",
    "        links = [link.get('href') for link in soup.find_all(\"a\", href=True)]\n",
    "        self.links = [link for link in links if link]\n",
    "\n",
    "    def get_contents(self):\n",
    "        return f\"website title: {self.title}\\nWebsite text: {self.text}\\n\\n\"\n"
   ]
  },
  {
   "cell_type": "code",
   "execution_count": 45,
   "metadata": {},
   "outputs": [],
   "source": [
    "ed = Website(\"https://edwarddonner.com\")"
   ]
  },
  {
   "cell_type": "code",
   "execution_count": 46,
   "metadata": {},
   "outputs": [
    {
     "data": {
      "text/plain": [
       "['https://edwarddonner.com/',\n",
       " 'https://edwarddonner.com/outsmart/',\n",
       " 'https://edwarddonner.com/about-me-and-about-nebula/',\n",
       " 'https://edwarddonner.com/posts/',\n",
       " 'https://edwarddonner.com/',\n",
       " 'https://news.ycombinator.com',\n",
       " 'https://nebula.io/?utm_source=ed&utm_medium=referral',\n",
       " 'https://www.prnewswire.com/news-releases/wynden-stark-group-acquires-nyc-venture-backed-tech-startup-untapt-301269512.html',\n",
       " 'https://patents.google.com/patent/US20210049536A1/',\n",
       " 'https://www.linkedin.com/in/eddonner/',\n",
       " 'https://edwarddonner.com/2024/12/21/llm-resources-superdatascience/',\n",
       " 'https://edwarddonner.com/2024/12/21/llm-resources-superdatascience/',\n",
       " 'https://edwarddonner.com/2024/11/13/llm-engineering-resources/',\n",
       " 'https://edwarddonner.com/2024/11/13/llm-engineering-resources/',\n",
       " 'https://edwarddonner.com/2024/10/16/from-software-engineer-to-ai-data-scientist-resources/',\n",
       " 'https://edwarddonner.com/2024/10/16/from-software-engineer-to-ai-data-scientist-resources/',\n",
       " 'https://edwarddonner.com/2024/08/06/outsmart/',\n",
       " 'https://edwarddonner.com/2024/08/06/outsmart/',\n",
       " 'https://edwarddonner.com/',\n",
       " 'https://edwarddonner.com/outsmart/',\n",
       " 'https://edwarddonner.com/about-me-and-about-nebula/',\n",
       " 'https://edwarddonner.com/posts/',\n",
       " 'mailto:hello@mygroovydomain.com',\n",
       " 'https://www.linkedin.com/in/eddonner/',\n",
       " 'https://twitter.com/edwarddonner',\n",
       " 'https://www.facebook.com/edward.donner.52']"
      ]
     },
     "execution_count": 46,
     "metadata": {},
     "output_type": "execute_result"
    }
   ],
   "source": [
    "ed.links"
   ]
  },
  {
   "cell_type": "code",
   "execution_count": 41,
   "metadata": {},
   "outputs": [],
   "source": [
    "link_system_prompt = \"You are provided with a list of links found on a webpage. \\\n",
    "You are able to decide which of the links would be most relevant to include in a brochure about the company, \\\n",
    "such as links to an About page, or a Company page, or Careers/Jobs pages.\\n\"\n",
    "link_system_prompt += \"You should respond in JSON as in this example:\"\n",
    "link_system_prompt += \"\"\"\n",
    "{   \n",
    "    \"links\": [\n",
    "        {\"type\": \"About page\", \"url\": \"https://full.url/goes/here/about\"},\n",
    "        {\"type\": \"Careers page\", \"url\": \"https://another.full.url/careers\"}\n",
    "    ]\n",
    "}\n",
    "\"\"\""
   ]
  },
  {
   "cell_type": "code",
   "execution_count": 43,
   "metadata": {},
   "outputs": [
    {
     "name": "stdout",
     "output_type": "stream",
     "text": [
      "You are provided with a list of links found on a webpage. You are able to decide which of the links would be most relevant to include in a brochure about the company, such as links to an About page, or a Company page, or Careers/Jobs pages.\n",
      "You should respond in JSON as in this example:\n",
      "{   \n",
      "    \"links\": [\n",
      "        {\"type\": \"About page\", \"url\": \"https://full.url/goes/here/about\"},\n",
      "        {\"type\": \"Careers page\", \"url\": \"https://another.full.url/careers\"}\n",
      "    ]\n",
      "}\n",
      "\n"
     ]
    }
   ],
   "source": [
    "print(link_system_prompt)"
   ]
  },
  {
   "cell_type": "code",
   "execution_count": 44,
   "metadata": {},
   "outputs": [],
   "source": [
    "def get_links_user_prompt(website):\n",
    "    user_prompt = f\"Here is the list of links on the website of {website.url} - \"\n",
    "    user_prompt += \"please decide which of these are relevant web links for a brochure about the company, respond with the full https URL in JSON format. \\\n",
    "    Do not include Terms of Service, Privacy, email links.\\n\"\n",
    "    user_prompt += \"Links (some might be relative links):\\n\"\n",
    "    user_prompt += \"\\n\".join(website.links)\n",
    "    return user_prompt\n"
   ]
  },
  {
   "cell_type": "code",
   "execution_count": 47,
   "metadata": {},
   "outputs": [
    {
     "data": {
      "text/plain": [
       "'Here is the list of links on the website of https://edwarddonner.com - please decide which of these are relevant web links for a brochure about the company, respond with the full https URL in JSON format.     Do not include Terms of Service, Privacy, email links.\\nLinks (some might be relative links):\\nhttps://edwarddonner.com/\\nhttps://edwarddonner.com/outsmart/\\nhttps://edwarddonner.com/about-me-and-about-nebula/\\nhttps://edwarddonner.com/posts/\\nhttps://edwarddonner.com/\\nhttps://news.ycombinator.com\\nhttps://nebula.io/?utm_source=ed&utm_medium=referral\\nhttps://www.prnewswire.com/news-releases/wynden-stark-group-acquires-nyc-venture-backed-tech-startup-untapt-301269512.html\\nhttps://patents.google.com/patent/US20210049536A1/\\nhttps://www.linkedin.com/in/eddonner/\\nhttps://edwarddonner.com/2024/12/21/llm-resources-superdatascience/\\nhttps://edwarddonner.com/2024/12/21/llm-resources-superdatascience/\\nhttps://edwarddonner.com/2024/11/13/llm-engineering-resources/\\nhttps://edwarddonner.com/2024/11/13/llm-engineering-resources/\\nhttps://edwarddonner.com/2024/10/16/from-software-engineer-to-ai-data-scientist-resources/\\nhttps://edwarddonner.com/2024/10/16/from-software-engineer-to-ai-data-scientist-resources/\\nhttps://edwarddonner.com/2024/08/06/outsmart/\\nhttps://edwarddonner.com/2024/08/06/outsmart/\\nhttps://edwarddonner.com/\\nhttps://edwarddonner.com/outsmart/\\nhttps://edwarddonner.com/about-me-and-about-nebula/\\nhttps://edwarddonner.com/posts/\\nmailto:hello@mygroovydomain.com\\nhttps://www.linkedin.com/in/eddonner/\\nhttps://twitter.com/edwarddonner\\nhttps://www.facebook.com/edward.donner.52'"
      ]
     },
     "execution_count": 47,
     "metadata": {},
     "output_type": "execute_result"
    }
   ],
   "source": [
    "get_links_user_prompt(ed)"
   ]
  },
  {
   "cell_type": "code",
   "execution_count": 48,
   "metadata": {},
   "outputs": [
    {
     "name": "stdout",
     "output_type": "stream",
     "text": [
      "Here is the list of links on the website of https://edwarddonner.com - please decide which of these are relevant web links for a brochure about the company, respond with the full https URL in JSON format.     Do not include Terms of Service, Privacy, email links.\n",
      "Links (some might be relative links):\n",
      "https://edwarddonner.com/\n",
      "https://edwarddonner.com/outsmart/\n",
      "https://edwarddonner.com/about-me-and-about-nebula/\n",
      "https://edwarddonner.com/posts/\n",
      "https://edwarddonner.com/\n",
      "https://news.ycombinator.com\n",
      "https://nebula.io/?utm_source=ed&utm_medium=referral\n",
      "https://www.prnewswire.com/news-releases/wynden-stark-group-acquires-nyc-venture-backed-tech-startup-untapt-301269512.html\n",
      "https://patents.google.com/patent/US20210049536A1/\n",
      "https://www.linkedin.com/in/eddonner/\n",
      "https://edwarddonner.com/2024/12/21/llm-resources-superdatascience/\n",
      "https://edwarddonner.com/2024/12/21/llm-resources-superdatascience/\n",
      "https://edwarddonner.com/2024/11/13/llm-engineering-resources/\n",
      "https://edwarddonner.com/2024/11/13/llm-engineering-resources/\n",
      "https://edwarddonner.com/2024/10/16/from-software-engineer-to-ai-data-scientist-resources/\n",
      "https://edwarddonner.com/2024/10/16/from-software-engineer-to-ai-data-scientist-resources/\n",
      "https://edwarddonner.com/2024/08/06/outsmart/\n",
      "https://edwarddonner.com/2024/08/06/outsmart/\n",
      "https://edwarddonner.com/\n",
      "https://edwarddonner.com/outsmart/\n",
      "https://edwarddonner.com/about-me-and-about-nebula/\n",
      "https://edwarddonner.com/posts/\n",
      "mailto:hello@mygroovydomain.com\n",
      "https://www.linkedin.com/in/eddonner/\n",
      "https://twitter.com/edwarddonner\n",
      "https://www.facebook.com/edward.donner.52\n"
     ]
    }
   ],
   "source": [
    "print(get_links_user_prompt(ed))"
   ]
  },
  {
   "cell_type": "code",
   "execution_count": 70,
   "metadata": {},
   "outputs": [],
   "source": [
    "def get_links(url):\n",
    "    website = Website(url)\n",
    "    response = openai.chat.completions.create(\n",
    "        model = MODEL,\n",
    "        messages = [\n",
    "            {\"role\": \"system\", \"content\": link_system_prompt},\n",
    "            {\"role\": \"user\", \"content\": get_links_user_prompt(website)}\n",
    "        ],\n",
    "        response_format = {\"type\": \"json_object\"}\n",
    "    )\n",
    "    result = response.choices[0].message.content\n",
    "    return json.loads(result)"
   ]
  },
  {
   "cell_type": "code",
   "execution_count": 71,
   "metadata": {},
   "outputs": [
    {
     "data": {
      "text/plain": [
       "['/',\n",
       " '/models',\n",
       " '/datasets',\n",
       " '/spaces',\n",
       " '/posts',\n",
       " '/docs',\n",
       " '/enterprise',\n",
       " '/pricing',\n",
       " '/login',\n",
       " '/join',\n",
       " '/deepseek-ai/DeepSeek-R1',\n",
       " '/hexgrad/Kokoro-82M',\n",
       " '/openbmb/MiniCPM-o-2_6',\n",
       " '/MiniMaxAI/MiniMax-Text-01',\n",
       " '/deepseek-ai/DeepSeek-V3',\n",
       " '/models',\n",
       " '/spaces/hexgrad/Kokoro-TTS',\n",
       " '/spaces/JeffreyXiang/TRELLIS',\n",
       " '/spaces/lllyasviel/iclight-v2',\n",
       " '/spaces/Kwai-Kolors/Kolors-Virtual-Try-On',\n",
       " '/spaces/black-forest-labs/FLUX.1-dev',\n",
       " '/spaces',\n",
       " '/datasets/fka/awesome-chatgpt-prompts',\n",
       " '/datasets/NovaSky-AI/Sky-T1_data_17k',\n",
       " '/datasets/HumanLLMs/Human-Like-DPO-Dataset',\n",
       " '/datasets/DAMO-NLP-SG/multimodal_textbook',\n",
       " '/datasets/BIOMEDICA/biomedica_webdataset',\n",
       " '/datasets',\n",
       " '/join',\n",
       " '/pricing#endpoints',\n",
       " '/pricing#spaces',\n",
       " '/pricing',\n",
       " '/enterprise',\n",
       " '/enterprise',\n",
       " '/enterprise',\n",
       " '/enterprise',\n",
       " '/enterprise',\n",
       " '/enterprise',\n",
       " '/enterprise',\n",
       " '/allenai',\n",
       " '/facebook',\n",
       " '/amazon',\n",
       " '/google',\n",
       " '/Intel',\n",
       " '/microsoft',\n",
       " '/grammarly',\n",
       " '/Writer',\n",
       " '/docs/transformers',\n",
       " '/docs/diffusers',\n",
       " '/docs/safetensors',\n",
       " '/docs/huggingface_hub',\n",
       " '/docs/tokenizers',\n",
       " '/docs/peft',\n",
       " '/docs/transformers.js',\n",
       " '/docs/timm',\n",
       " '/docs/trl',\n",
       " '/docs/datasets',\n",
       " '/docs/text-generation-inference',\n",
       " '/docs/accelerate',\n",
       " '/models',\n",
       " '/datasets',\n",
       " '/spaces',\n",
       " '/tasks',\n",
       " 'https://ui.endpoints.huggingface.co',\n",
       " '/chat',\n",
       " '/huggingface',\n",
       " '/brand',\n",
       " '/terms-of-service',\n",
       " '/privacy',\n",
       " 'https://apply.workable.com/huggingface/',\n",
       " 'mailto:press@huggingface.co',\n",
       " '/learn',\n",
       " '/docs',\n",
       " '/blog',\n",
       " 'https://discuss.huggingface.co',\n",
       " 'https://status.huggingface.co/',\n",
       " 'https://github.com/huggingface',\n",
       " 'https://twitter.com/huggingface',\n",
       " 'https://www.linkedin.com/company/huggingface/',\n",
       " '/join/discord']"
      ]
     },
     "execution_count": 71,
     "metadata": {},
     "output_type": "execute_result"
    }
   ],
   "source": [
    "huggingface = Website(\"https://huggingface.co\")\n",
    "huggingface.links"
   ]
  },
  {
   "cell_type": "code",
   "execution_count": 72,
   "metadata": {},
   "outputs": [],
   "source": [
    "hf = get_links(\"https://huggingface.co\")"
   ]
  },
  {
   "cell_type": "code",
   "execution_count": 73,
   "metadata": {},
   "outputs": [
    {
     "data": {
      "text/plain": [
       "[{'type': 'About page', 'url': 'https://huggingface.co/huggingface'},\n",
       " {'type': 'Careers page', 'url': 'https://apply.workable.com/huggingface/'},\n",
       " {'type': 'Enterprise page', 'url': 'https://huggingface.co/enterprise'},\n",
       " {'type': 'Models page', 'url': 'https://huggingface.co/models'},\n",
       " {'type': 'Datasets page', 'url': 'https://huggingface.co/datasets'},\n",
       " {'type': 'Spaces page', 'url': 'https://huggingface.co/spaces'},\n",
       " {'type': 'Documentation page', 'url': 'https://huggingface.co/docs'},\n",
       " {'type': 'Blog page', 'url': 'https://huggingface.co/blog'},\n",
       " {'type': 'Community forum', 'url': 'https://discuss.huggingface.co'},\n",
       " {'type': 'GitHub page', 'url': 'https://github.com/huggingface'},\n",
       " {'type': 'Twitter page', 'url': 'https://twitter.com/huggingface'},\n",
       " {'type': 'LinkedIn page',\n",
       "  'url': 'https://www.linkedin.com/company/huggingface/'}]"
      ]
     },
     "execution_count": 73,
     "metadata": {},
     "output_type": "execute_result"
    }
   ],
   "source": [
    "hf[\"links\"]"
   ]
  },
  {
   "cell_type": "code",
   "execution_count": 74,
   "metadata": {},
   "outputs": [],
   "source": [
    "def get_all_details(url):\n",
    "    result = \"Landing Page\\n\"\n",
    "    result += Website(url).get_contents()\n",
    "    result += \"Links\\n\"\n",
    "    links = get_links(url)\n",
    "    for link in links[\"links\"]:\n",
    "        result += f\"\\n\\n{link['type']}\\n\"\n",
    "        result += Website(link[\"url\"]).get_contents()\n",
    "    return result"
   ]
  },
  {
   "cell_type": "code",
   "execution_count": 63,
   "metadata": {},
   "outputs": [],
   "source": [
    "system_prompt = \"You are an assistant that analyzes the contents of several relevant pages from a company website \\\n",
    "and creates a short brochure about the company for prospective customers, investors and recruits. Respond in markdown.\\\n",
    "Include details of company culture, customers and careers/jobs if you have the information.\""
   ]
  },
  {
   "cell_type": "code",
   "execution_count": 75,
   "metadata": {},
   "outputs": [],
   "source": [
    "def get_brochure_user_prompt(company_name, url):\n",
    "    user_prompt = f\"You are looking at a company called: {company_name}\\n\"\n",
    "    user_prompt += f\"Here are the contents of its landing page and other relevant pages; use this information to build a short brochure of the company in markdown.\\n\"\n",
    "    user_prompt += get_all_details(url)\n",
    "    user_prompt = user_prompt[:5_000] # Truncate if more than 5,000 characters\n",
    "    return user_prompt"
   ]
  },
  {
   "cell_type": "code",
   "execution_count": 76,
   "metadata": {},
   "outputs": [
    {
     "data": {
      "text/plain": [
       "'You are looking at a company called: HuggingFace\\nHere are the contents of its landing page and other relevant pages; use this information to build a short brochure of the company in markdown.\\nLanding Page\\nwebsite title: Hugging Face – The AI community building the future.\\nWebsite text: Hugging Face\\nModels\\nDatasets\\nSpaces\\nPosts\\nDocs\\nEnterprise\\nPricing\\nLog In\\nSign Up\\nThe AI community building the future.\\nThe platform where the machine learning community collaborates on models, datasets, and applications.\\nTrending on\\nthis week\\nModels\\ndeepseek-ai/DeepSeek-R1\\nUpdated\\nabout 5 hours ago\\n•\\n5.57k\\n•\\n1.12k\\nhexgrad/Kokoro-82M\\nUpdated\\n4 days ago\\n•\\n29.4k\\n•\\n2.15k\\nopenbmb/MiniCPM-o-2_6\\nUpdated\\nabout 10 hours ago\\n•\\n24.1k\\n•\\n713\\nMiniMaxAI/MiniMax-Text-01\\nUpdated\\n4 days ago\\n•\\n3.18k\\n•\\n447\\ndeepseek-ai/DeepSeek-V3\\nUpdated\\n23 days ago\\n•\\n173k\\n•\\n2.12k\\nBrowse 400k+ models\\nSpaces\\nRunning\\non\\nZero\\n1.31k\\n❤️\\nKokoro TTS\\nNow in 5 languages!\\nRunning\\non\\nZero\\n3.18k\\n🏢\\nTRELLIS\\nScalable and Versatile 3D Generation from images\\nRunning\\non\\nZero\\n1.78k\\n📈\\nIC Light V2\\nRunning\\non\\nCPU Upgrade\\n6.89k\\n👕\\nKolors Virtual Try-On\\nRunning\\non\\nZero\\n6.48k\\n🖥️\\nFLUX.1 [dev]\\nBrowse 150k+ applications\\nDatasets\\nfka/awesome-chatgpt-prompts\\nUpdated\\n16 days ago\\n•\\n6.1k\\n•\\n6.99k\\nNovaSky-AI/Sky-T1_data_17k\\nUpdated\\n7 days ago\\n•\\n2.38k\\n•\\n134\\nHumanLLMs/Human-Like-DPO-Dataset\\nUpdated\\n9 days ago\\n•\\n1.09k\\n•\\n129\\nDAMO-NLP-SG/multimodal_textbook\\nUpdated\\n10 days ago\\n•\\n10.6k\\n•\\n125\\nBIOMEDICA/biomedica_webdataset\\nUpdated\\n6 days ago\\n•\\n27\\n•\\n19\\nBrowse 100k+ datasets\\nThe Home of Machine Learning\\nCreate, discover and collaborate on ML better.\\nThe collaboration platform\\nHost and collaborate on unlimited public models, datasets and applications.\\nMove faster\\nWith the HF Open source stack.\\nExplore all modalities\\nText, image, video, audio or even 3D.\\nBuild your portfolio\\nShare your work with the world and build your ML profile.\\nSign Up\\nAccelerate your ML\\nWe provide paid Compute and Enterprise solutions.\\nCompute\\nDeploy on optimized\\nInference Endpoints\\nor update your\\nSpaces applications\\nto a GPU in a few clicks.\\nView pricing\\nStarting at $0.60/hour for GPU\\nEnterprise\\nGive your team the most advanced platform to build AI with enterprise-grade security, access controls and\\n\\t\\t\\tdedicated support.\\nGetting started\\nStarting at $20/user/month\\nSingle Sign-On\\nRegions\\nPriority Support\\nAudit Logs\\nResource Groups\\nPrivate Datasets Viewer\\nMore than 50,000 organizations are using Hugging Face\\nAi2\\nEnterprise\\nnon-profit\\n•\\n378 models\\n•\\n1.93k followers\\nAI at Meta\\nEnterprise\\ncompany\\n•\\n2.06k models\\n•\\n4.2k followers\\nAmazon Web Services\\ncompany\\n•\\n20 models\\n•\\n2.56k followers\\nGoogle\\ncompany\\n•\\n913 models\\n•\\n6.68k followers\\nIntel\\ncompany\\n•\\n218 models\\n•\\n2.16k followers\\nMicrosoft\\ncompany\\n•\\n353 models\\n•\\n7.55k followers\\nGrammarly\\ncompany\\n•\\n10 models\\n•\\n112 followers\\nWriter\\nEnterprise\\ncompany\\n•\\n18 models\\n•\\n199 followers\\nOur Open Source\\nWe are building the foundation of ML tooling with the community.\\nTransformers\\n137,833\\nState-of-the-art ML for Pytorch, TensorFlow, and JAX.\\nDiffusers\\n27,198\\nState-of-the-art diffusion models for image and audio generation in PyTorch.\\nSafetensors\\n3,013\\nSimple, safe way to store and distribute neural networks weights safely and quickly.\\nHub Python Library\\n2,242\\nClient library for the HF Hub: manage repositories from your Python runtime.\\nTokenizers\\n9,272\\nFast tokenizers, optimized for both research and production.\\nPEFT\\n17,024\\nParameter efficient finetuning methods for large models.\\nTransformers.js\\n12,631\\nState-of-the-art Machine Learning for the web. Run Transformers directly in your browser, with no need for a server.\\ntimm\\n32,949\\nState-of-the-art computer vision models, layers, optimizers, training/evaluation, and utilities.\\nTRL\\n10,651\\nTrain transformer language models with reinforcement learning.\\nDatasets\\n19,475\\nAccess and share datasets for computer vision, audio, and NLP tasks.\\nText Generation Inference\\n9,612\\nToolkit to serve Large Language Models.\\nAccelerate\\n8,194\\nEasily train and use PyTorch models with multi-GPU, TPU, mixed-precision.\\nSystem theme\\nWebsite\\nModels\\nDatasets\\nSpaces\\nTasks\\nInference Endpoints\\nHuggingChat\\nCompany\\nAbout\\nBrand assets\\nTerms of service\\nPrivacy\\nJobs\\nPress\\nResources\\nLearn\\nDocumentation\\nBlog\\nForum\\nService Status\\nSocial\\nGitHub\\nTwitter\\nLinkedIn\\nDiscord\\n\\nLinks\\n\\n\\nAbout page\\nwebsite title: huggingface (Hugging Face)\\nWebsite text: Hugging Face\\nModels\\nDatasets\\nSpaces\\nPosts\\nDocs\\nEnterprise\\nPricing\\nLog In\\nSign Up\\nHugging Face\\nEnterprise\\ncompany\\nVerified\\nhttps://huggingface.co\\nhuggingface\\nhuggingface\\nActivity Feed\\nFollow\\n13,389\\nAI & ML interests\\nThe AI community building the future.\\nRecent Activity\\nnielsr\\nupdated\\na dataset\\nabout 6 hours ago\\nhuggingface/community-science-merged\\nsayakpaul\\nupdated\\na dataset\\nabout 10 hours ago\\nhuggingface/documentation-images\\nm-ric\\nupdated\\na dataset\\nabout 23 hours ago\\nhuggingface/documentation-images\\nView all activity\\nArticles\\nYay! Organizations can now publish blog Articles\\nabout 21 hours ago\\n•\\n22\\nTeam members\\n223\\n+189\\n+176\\n+155\\n+145\\n+125\\nOrganization Card\\nCommunity'"
      ]
     },
     "execution_count": 76,
     "metadata": {},
     "output_type": "execute_result"
    }
   ],
   "source": [
    "get_brochure_user_prompt(\"HuggingFace\", \"https://huggingface.co\")"
   ]
  },
  {
   "cell_type": "code",
   "execution_count": 77,
   "metadata": {},
   "outputs": [],
   "source": [
    "def create_brochure(company_name, url):\n",
    "    response = openai.chat.completions.create(\n",
    "        model=MODEL,\n",
    "        messages=[\n",
    "            {\"role\": \"system\", \"content\": system_prompt},\n",
    "            {\"role\": \"user\", \"content\": get_brochure_user_prompt(company_name, url)}\n",
    "          ],\n",
    "    )\n",
    "    result = response.choices[0].message.content\n",
    "    display(Markdown(result))"
   ]
  },
  {
   "cell_type": "code",
   "execution_count": 78,
   "metadata": {},
   "outputs": [
    {
     "data": {
      "text/markdown": [
       "# Hugging Face Brochure\n",
       "\n",
       "## Welcome to Hugging Face\n",
       "\n",
       "**The AI Community Building the Future**  \n",
       "Join a vibrant machine learning community collaborating on advanced models, datasets, and applications. At Hugging Face, we are dedicated to participating in and leading the progression of artificial intelligence and machine learning technologies.\n",
       "\n",
       "---\n",
       "\n",
       "## Our Offerings\n",
       "\n",
       "- **Models:** Access over **400,000 machine learning models** designed to cater to various applications in AI.\n",
       "- **Datasets:** Discover and utilize more than **100,000 datasets** optimized for text, image, and audio analysis.\n",
       "- **Spaces:** Explore and run more than **150,000 applications**, from virtual try-ons to 3D generation.\n",
       "\n",
       "### Collaboration Made Easy\n",
       "Our platform allows users to host unlimited public models, datasets, and applications, ensuring easier collaboration within the ML community.\n",
       "\n",
       "### Scalable Solutions\n",
       "For enterprise needs, we offer **Compute and Enterprise solutions**:\n",
       "- **Compute:** Deploy optimized inference endpoints and utilize powerful GPU resources, starting at **$0.60/hour**.\n",
       "- **Enterprise:** Tailored services starting at **$20/user/month**, providing advanced security, access controls, and dedicated support for teams over **50,000 organizations**.\n",
       "\n",
       "---\n",
       "\n",
       "## Culture at Hugging Face\n",
       "\n",
       "At Hugging Face, we pride ourselves on fostering an inclusive and collaborative culture driven by innovation and open-source collaboration. Our community is grounded in shared learning, empowerment, and a collective passion for advancing machine learning technologies. \n",
       "\n",
       "### Join Our Team\n",
       "We are always looking for talented and passionate individuals to join our team. As a part of our workforce, you will have the opportunity to contribute to impactful projects while working in a dynamic environment that values creativity and individual growth.\n",
       "\n",
       "---\n",
       "\n",
       "## Our Clients\n",
       "\n",
       "We proudly serve a diverse range of clients, from startups to industry giants. Notable organizations using Hugging Face models and solutions include:\n",
       "- **Amazon Web Services**\n",
       "- **Google**\n",
       "- **Microsoft**\n",
       "- **Intel**\n",
       "- **Grammarly**\n",
       "\n",
       "---\n",
       "\n",
       "## Get Started with Hugging Face\n",
       "\n",
       "Explore our offerings, collaborate with the community, and start transforming your projects with state-of-the-art machine learning technologies. Sign up today and build your ML profile!\n",
       "\n",
       "🔗 [Visit our Website](https://huggingface.co)\n",
       "\n",
       "---\n",
       "\n",
       "### Connect with Us\n",
       "\n",
       "Follow us on:\n",
       "- [Twitter](https://twitter.com/huggingface)\n",
       "- [LinkedIn](https://www.linkedin.com/company/huggingface)\n",
       "- [Discord](https://discord.gg/huggingface)\n",
       "\n",
       "Join the conversation today and be a part of the future of AI!"
      ],
      "text/plain": [
       "<IPython.core.display.Markdown object>"
      ]
     },
     "metadata": {},
     "output_type": "display_data"
    }
   ],
   "source": [
    "create_brochure(\"HuggingFace\", \"https://huggingface.com\")"
   ]
  },
  {
   "cell_type": "code",
   "execution_count": 79,
   "metadata": {},
   "outputs": [],
   "source": [
    "def stream_brochure(company_name, url):\n",
    "    stream = openai.chat.completions.create(\n",
    "        model=MODEL,\n",
    "        messages=[\n",
    "            {\"role\": \"system\", \"content\": system_prompt},\n",
    "            {\"role\": \"user\", \"content\": get_brochure_user_prompt(company_name, url)}\n",
    "          ],\n",
    "        stream=True\n",
    "    )\n",
    "    \n",
    "    response = \"\"\n",
    "    display_handle = display(Markdown(\"\"), display_id=True)\n",
    "    for chunk in stream:\n",
    "        response += chunk.choices[0].delta.content or ''\n",
    "        response = response.replace(\"```\",\"\").replace(\"markdown\", \"\")\n",
    "        update_display(Markdown(response), display_id=display_handle.display_id)"
   ]
  },
  {
   "cell_type": "code",
   "execution_count": 82,
   "metadata": {},
   "outputs": [
    {
     "data": {
      "text/markdown": [
       "\n",
       "# Hugging Face Brochure\n",
       "\n",
       "## About Us\n",
       "Welcome to **Hugging Face**, where we are dedicated to building the future of AI together. As a vibrant and collaborative community, we provide a platform for machine learning enthusiasts and professionals to connect over models, datasets, and innovative applications.\n",
       "\n",
       "### Our Mission\n",
       "At Hugging Face, we believe in the power of collaboration in machine learning. We aim to accelerate ML development and create open-source solutions that leverage the collective intelligence of our community.\n",
       "\n",
       "## Our Offerings\n",
       "### Models\n",
       "Browse through over **400,000 models** ranging from state-of-the-art machine learning implementations to innovative tools designed for varied applications. \n",
       "\n",
       "### Datasets\n",
       "Access and share from our extensive repository of **100,000+ datasets** tailored for tasks in computer vision, NLP, and more.\n",
       "\n",
       "### Applications\n",
       "Explore our **150,000+ applications** and discover new ways to utilize ML in real life. Whether you're into text, audio, video, or 3D, we've got you covered.\n",
       "\n",
       "### Enterprise Solutions\n",
       "Hugging Face Enterprise provides advanced platforms for organizations, ensuring robust security and dedicated support tailored to business needs. Starting at **$20/user/month**, we are trusted by over **50,000 organizations**, including industry leaders like Meta, AWS, Google, Microsoft, and more.\n",
       "\n",
       "## Company Culture\n",
       "At Hugging Face, inclusivity and community spirit are at the core of our culture. Our team is composed of passionate AI enthusiasts and professionals who share a commitment to continuous learning and innovation. We foster an environment where collaboration thrives, and everyone has the opportunity to contribute and make an impact.\n",
       "\n",
       "## Career Opportunities\n",
       "Join us in shaping the future of AI! We are always on the lookout for talented individuals who are eager to dive into the world of machine learning. Explore a range of positions across various teams, from engineering to community engagement.\n",
       "\n",
       "### Current Openings\n",
       "- Software Engineers\n",
       "- Data Scientists\n",
       "- Community Managers\n",
       "- Product Designers\n",
       "\n",
       "## Connect with Us\n",
       "Join our thriving community by getting involved! Follow us on social media, engage with our forums, or check out our blog for the latest news in AI and ML.\n",
       "\n",
       "- [GitHub](https://github.com/huggingface)\n",
       "- [Twitter](https://twitter.com/huggingface)\n",
       "- [LinkedIn](https://www.linkedin.com/company/hugging-face)\n",
       "\n",
       "### Together, Let's Build the Future of AI!\n",
       "\n"
      ],
      "text/plain": [
       "<IPython.core.display.Markdown object>"
      ]
     },
     "metadata": {},
     "output_type": "display_data"
    }
   ],
   "source": [
    "stream_brochure(\"HuggingFace\", \"https://huggingface.co\")"
   ]
  },
  {
   "cell_type": "code",
   "execution_count": null,
   "metadata": {},
   "outputs": [],
   "source": []
  }
 ],
 "metadata": {
  "kernelspec": {
   "display_name": "llms",
   "language": "python",
   "name": "python3"
  },
  "language_info": {
   "codemirror_mode": {
    "name": "ipython",
    "version": 3
   },
   "file_extension": ".py",
   "mimetype": "text/x-python",
   "name": "python",
   "nbconvert_exporter": "python",
   "pygments_lexer": "ipython3",
   "version": "3.11.11"
  }
 },
 "nbformat": 4,
 "nbformat_minor": 2
}
