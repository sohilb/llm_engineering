{
 "cells": [
  {
   "cell_type": "markdown",
   "id": "fe12c203-e6a6-452c-a655-afb8a03a4ff5",
   "metadata": {},
   "source": [
    "# End of week 1 exercise\n",
    "\n",
    "To demonstrate your familiarity with OpenAI API, and also Ollama, build a tool that takes a technical question,  \n",
    "and responds with an explanation. This is a tool that you will be able to use yourself during the course!"
   ]
  },
  {
   "cell_type": "code",
   "execution_count": 22,
   "id": "c1070317-3ed9-4659-abe3-828943230e03",
   "metadata": {},
   "outputs": [],
   "source": [
    "# imports\n",
    "from openai import OpenAI\n",
    "from dotenv import load_dotenv\n",
    "import os\n",
    "from IPython.display import Markdown"
   ]
  },
  {
   "cell_type": "code",
   "execution_count": 2,
   "id": "4a456906-915a-4bfd-bb9d-57e505c5093f",
   "metadata": {},
   "outputs": [],
   "source": [
    "# constants\n",
    "\n",
    "MODEL_GPT = 'gpt-4o-mini'\n",
    "MODEL_LLAMA = 'llama3.2'"
   ]
  },
  {
   "cell_type": "code",
   "execution_count": 9,
   "id": "a8d7923c-5f28-4c30-8556-342d7c8497c1",
   "metadata": {},
   "outputs": [],
   "source": [
    "# set up environment\n",
    "load_dotenv()\n",
    "api_key = os.getenv('OPENAI_API_KEY')"
   ]
  },
  {
   "cell_type": "code",
   "execution_count": 10,
   "id": "9d93e37e",
   "metadata": {},
   "outputs": [],
   "source": [
    "# create openai object\n",
    "\n",
    "openai = OpenAI()"
   ]
  },
  {
   "cell_type": "code",
   "execution_count": 14,
   "id": "3f0d0137-52b0-47a8-81a8-11a90a010798",
   "metadata": {},
   "outputs": [],
   "source": [
    "# here is the question; type over this to ask something new\n",
    "\n",
    "question = input(\"What do you want to ask? \")"
   ]
  },
  {
   "cell_type": "code",
   "execution_count": 26,
   "id": "60ce7000-a4a5-4cce-a261-e75ef45063b4",
   "metadata": {},
   "outputs": [],
   "source": [
    "# function to take a question and get an answer\n",
    "\n",
    "def QA_bot(model):\n",
    "    question = input(\"What do you want to ask? \")\n",
    "\n",
    "    print(\"Question: \")\n",
    "    print(question)\n",
    "\n",
    "    # Get gpt-4o-mini to answer, with streaming\n",
    "    response = openai.chat.completions.create(\n",
    "        model=model,\n",
    "        messages=[\n",
    "            {\"role\": \"system\", \"content\": \"You are a Python programmer.\"},\n",
    "            {\"role\": \"user\", \"content\": question}\n",
    "        ]\n",
    "    )\n",
    "\n",
    "    result = response.choices[0].message.content\n",
    "\n",
    "    display(Markdown(f\"**Answer:** \\n{result}\"))"
   ]
  },
  {
   "cell_type": "code",
   "execution_count": 27,
   "id": "ae950a3a",
   "metadata": {},
   "outputs": [
    {
     "name": "stdout",
     "output_type": "stream",
     "text": [
      "Question: \n",
      "Explain list comprehension\n"
     ]
    },
    {
     "data": {
      "text/markdown": [
       "**Answer:** \n",
       "List comprehension is a concise way to create lists in Python. It allows you to construct a new list by applying an expression to each item in an existing iterable (like a list, tuple, or string) and can also include an optional condition to filter the items. The syntax is both compact and readable, making it a popular feature among Python programmers.\n",
       "\n",
       "### Basic Syntax\n",
       "The general syntax for list comprehension is:\n",
       "\n",
       "```python\n",
       "new_list = [expression for item in iterable if condition]\n",
       "```\n",
       "\n",
       "Where:\n",
       "- `new_list` is the resulting list being created.\n",
       "- `expression` is the value or transformation you want to apply to each item.\n",
       "- `item` is the variable representing the current item in the iterable.\n",
       "- `iterable` is any iterable object (like a list, tuple, or range).\n",
       "- `condition` is an optional filter that restricts which items from the iterable are processed based on a Boolean expression.\n",
       "\n",
       "### Example Without Condition\n",
       "\n",
       "Here's an example that constructs a list of squares for numbers from 0 to 9:\n",
       "\n",
       "```python\n",
       "squares = [x**2 for x in range(10)]\n",
       "print(squares)\n",
       "```\n",
       "\n",
       "**Output:**\n",
       "```\n",
       "[0, 1, 4, 9, 16, 25, 36, 49, 64, 81]\n",
       "```\n",
       "\n",
       "### Example With Condition\n",
       "\n",
       "Now, let's say we want to create a list of even squares only:\n",
       "\n",
       "```python\n",
       "even_squares = [x**2 for x in range(10) if x % 2 == 0]\n",
       "print(even_squares)\n",
       "```\n",
       "\n",
       "**Output:**\n",
       "```\n",
       "[0, 4, 16, 36, 64]\n",
       "```\n",
       "\n",
       "In this case, the condition `if x % 2 == 0` filters the numbers so that only even numbers are squared and added to the new list.\n",
       "\n",
       "### Benefits of List Comprehension\n",
       "1. **Conciseness**: Reduces the amount of code written.\n",
       "2. **Readability**: Once you are familiar with the syntax, it can be easier to understand than traditional loops.\n",
       "3. **Performance**: It can be faster than using a for loop, as list comprehensions are optimized for performance.\n",
       "\n",
       "### Conclusion\n",
       "List comprehensions are a powerful tool for creating lists in Python, allowing for succinct and readable code. They work well for both simple and complex list generation tasks, making them a preferred option in many Python programming scenarios."
      ],
      "text/plain": [
       "<IPython.core.display.Markdown object>"
      ]
     },
     "metadata": {},
     "output_type": "display_data"
    }
   ],
   "source": [
    "QA_bot(MODEL_GPT)"
   ]
  },
  {
   "cell_type": "code",
   "execution_count": 28,
   "id": "8f7c8ea8-4082-4ad0-8751-3301adcf6538",
   "metadata": {},
   "outputs": [],
   "source": [
    "# Get Llama 3.2 to answer\n",
    "\n",
    "ollama_via_openai = OpenAI(base_url='http://localhost:11434/v1', api_key='ollama')"
   ]
  },
  {
   "cell_type": "code",
   "execution_count": 29,
   "id": "dff7d72a",
   "metadata": {},
   "outputs": [],
   "source": [
    "# function to take a question and get an answer\n",
    "\n",
    "def QA_ollama_bot(model):\n",
    "    question = input(\"What do you want to ask? \")\n",
    "\n",
    "    print(\"Question: \")\n",
    "    print(question)\n",
    "\n",
    "    # Get gpt-4o-mini to answer, with streaming\n",
    "    response = ollama_via_openai.chat.completions.create(\n",
    "        model=model,\n",
    "        messages=[\n",
    "            {\"role\": \"system\", \"content\": \"You are a Python programmer.\"},\n",
    "            {\"role\": \"user\", \"content\": question}\n",
    "        ]\n",
    "    )\n",
    "\n",
    "    result = response.choices[0].message.content\n",
    "\n",
    "    display(Markdown(f\"**Answer:** \\n{result}\"))"
   ]
  },
  {
   "cell_type": "code",
   "execution_count": 30,
   "id": "b40b29fd",
   "metadata": {},
   "outputs": [
    {
     "name": "stdout",
     "output_type": "stream",
     "text": [
      "Question: \n",
      "Explain list comprehension\n"
     ]
    },
    {
     "data": {
      "text/markdown": [
       "**Answer:** \n",
       "**List Comprehensions in Python**\n",
       "=====================================\n",
       "\n",
       "A list comprehension is a concise way to create lists by performing an operation on existing lists or other iterable objects. It provides a compact and readable alternative to traditional for loops.\n",
       "\n",
       "**Basic Syntax**\n",
       "----------------\n",
       "\n",
       "The general syntax of a list comprehension is:\n",
       "\n",
       "```python\n",
       "[ expression for variable in iterable if condition ]\n",
       "```\n",
       "\n",
       "Where:\n",
       "\n",
       "*   `expression` is the value that will be added to the new list.\n",
       "*   `variable` is the temporary name assigned to each item in the `iterable`.\n",
       "*   `iterable` is the list, tuple, or other iterable object that you want to process.\n",
       "*   `condition` (optional) is a filter that removes some items from the resulting list.\n",
       "\n",
       "**Example 1: Simple List Comprehension**\n",
       "-----------------------------------------\n",
       "\n",
       "Here's an example of a simple list comprehension:\n",
       "\n",
       "```python\n",
       "numbers = [1, 2, 3, 4, 5]\n",
       "double_numbers = [x * 2 for x in numbers]\n",
       "print(double_numbers)  # Output: [2, 4, 6, 8, 10]\n",
       "```\n",
       "\n",
       "In this example, we create a new list `double_numbers` that contains each number in the `numbers` list doubled.\n",
       "\n",
       "**Example 2: Filtered List Comprehension**\n",
       "------------------------------------------\n",
       "\n",
       "Here's an example of a list comprehension with a filter:\n",
       "\n",
       "```python\n",
       "fruits = ['apple', 'banana', 'cherry', 'date']\n",
       "ripe_fruits = [fruit for fruit in fruits if len(fruit) > 5]\n",
       "print(ripe_fruits)  # Output: ['cherry', 'date']\n",
       "```\n",
       "\n",
       "In this example, we create a new list `ripe_fruits` that contains only the fruits with more than 5 characters.\n",
       "\n",
       "**Example 3: Nested List Comprehension**\n",
       "---------------------------------------\n",
       "\n",
       "Here's an example of a nested list comprehension:\n",
       "\n",
       "```python\n",
       "matrix = [[1, 2], [3, 4]]\n",
       "flattened_matrix = [num for row in matrix for num in row]\n",
       "print(flattened_matrix)  # Output: [1, 2, 3, 4]\n",
       "```\n",
       "\n",
       "In this example, we create a new list `flattened_matrix` that contains all the numbers from the original matrix.\n",
       "\n",
       "**Best Practices**\n",
       "------------------\n",
       "\n",
       "*   List comprehensions are often more readable and concise than traditional for loops.\n",
       "*   Use them when working with small, simple data structures or operations.\n",
       "*   Avoid using complex conditions in your filter clause. Instead, use separate loops or conditional statements if necessary.\n",
       "*   Don't forget to include the `if` condition clause at the end of a list comprehension if you need to filter out items.\n",
       "\n",
       "**Conclusion**\n",
       "----------\n",
       "\n",
       "List comprehensions are a powerful tool in Python's arsenal for working with data structures and operations. They provide a concise way to create lists, filter items, and transform data in a readable and efficient manner."
      ],
      "text/plain": [
       "<IPython.core.display.Markdown object>"
      ]
     },
     "metadata": {},
     "output_type": "display_data"
    }
   ],
   "source": [
    "QA_ollama_bot(MODEL_LLAMA)"
   ]
  },
  {
   "cell_type": "code",
   "execution_count": null,
   "id": "4b428bee",
   "metadata": {},
   "outputs": [],
   "source": []
  }
 ],
 "metadata": {
  "kernelspec": {
   "display_name": "llms",
   "language": "python",
   "name": "python3"
  },
  "language_info": {
   "codemirror_mode": {
    "name": "ipython",
    "version": 3
   },
   "file_extension": ".py",
   "mimetype": "text/x-python",
   "name": "python",
   "nbconvert_exporter": "python",
   "pygments_lexer": "ipython3",
   "version": "3.11.11"
  }
 },
 "nbformat": 4,
 "nbformat_minor": 5
}
