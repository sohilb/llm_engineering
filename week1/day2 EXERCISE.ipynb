{
 "cells": [
  {
   "cell_type": "markdown",
   "id": "d15d8294-3328-4e07-ad16-8a03e9bbfdb9",
   "metadata": {},
   "source": [
    "# Welcome to your first assignment!\n",
    "\n",
    "Instructions are below. Please give this a try, and look in the solutions folder if you get stuck (or feel free to ask me!)"
   ]
  },
  {
   "cell_type": "markdown",
   "id": "ada885d9-4d42-4d9b-97f0-74fbbbfe93a9",
   "metadata": {},
   "source": [
    "<table style=\"margin: 0; text-align: left;\">\n",
    "    <tr>\n",
    "        <td style=\"width: 150px; height: 150px; vertical-align: middle;\">\n",
    "            <img src=\"../resources.jpg\" width=\"150\" height=\"150\" style=\"display: block;\" />\n",
    "        </td>\n",
    "        <td>\n",
    "            <h2 style=\"color:#f71;\">Just before we get to the assignment --</h2>\n",
    "            <span style=\"color:#f71;\">I thought I'd take a second to point you at this page of useful resources for the course. This includes links to all the slides.<br/>\n",
    "            <a href=\"https://edwarddonner.com/2024/11/13/llm-engineering-resources/\">https://edwarddonner.com/2024/11/13/llm-engineering-resources/</a><br/>\n",
    "            Please keep this bookmarked, and I'll continue to add more useful links there over time.\n",
    "            </span>\n",
    "        </td>\n",
    "    </tr>\n",
    "</table>"
   ]
  },
  {
   "cell_type": "markdown",
   "id": "6e9fa1fc-eac5-4d1d-9be4-541b3f2b3458",
   "metadata": {},
   "source": [
    "# HOMEWORK EXERCISE ASSIGNMENT\n",
    "\n",
    "Upgrade the day 1 project to summarize a webpage to use an Open Source model running locally via Ollama rather than OpenAI\n",
    "\n",
    "You'll be able to use this technique for all subsequent projects if you'd prefer not to use paid APIs.\n",
    "\n",
    "**Benefits:**\n",
    "1. No API charges - open-source\n",
    "2. Data doesn't leave your box\n",
    "\n",
    "**Disadvantages:**\n",
    "1. Significantly less power than Frontier Model\n",
    "\n",
    "## Recap on installation of Ollama\n",
    "\n",
    "Simply visit [ollama.com](https://ollama.com) and install!\n",
    "\n",
    "Once complete, the ollama server should already be running locally.  \n",
    "If you visit:  \n",
    "[http://localhost:11434/](http://localhost:11434/)\n",
    "\n",
    "You should see the message `Ollama is running`.  \n",
    "\n",
    "If not, bring up a new Terminal (Mac) or Powershell (Windows) and enter `ollama serve`  \n",
    "And in another Terminal (Mac) or Powershell (Windows), enter `ollama pull llama3.2`  \n",
    "Then try [http://localhost:11434/](http://localhost:11434/) again.\n",
    "\n",
    "If Ollama is slow on your machine, try using `llama3.2:1b` as an alternative. Run `ollama pull llama3.2:1b` from a Terminal or Powershell, and change the code below from `MODEL = \"llama3.2\"` to `MODEL = \"llama3.2:1b\"`"
   ]
  },
  {
   "cell_type": "code",
   "execution_count": 1,
   "id": "4e2a9393-7767-488e-a8bf-27c12dca35bd",
   "metadata": {},
   "outputs": [],
   "source": [
    "# imports\n",
    "\n",
    "import requests\n",
    "from bs4 import BeautifulSoup\n",
    "from IPython.display import Markdown, display"
   ]
  },
  {
   "cell_type": "code",
   "execution_count": 2,
   "id": "29ddd15d-a3c5-4f4e-a678-873f56162724",
   "metadata": {},
   "outputs": [],
   "source": [
    "# Constants\n",
    "\n",
    "OLLAMA_API = \"http://localhost:11434/api/chat\"\n",
    "HEADERS = {\"Content-Type\": \"application/json\"}\n",
    "MODEL = \"llama3.2\""
   ]
  },
  {
   "cell_type": "code",
   "execution_count": 3,
   "id": "dac0a679-599c-441f-9bf2-ddc73d35b940",
   "metadata": {},
   "outputs": [],
   "source": [
    "# Create a messages list using the same format that we used for OpenAI\n",
    "\n",
    "messages = [\n",
    "    {\"role\": \"user\", \"content\": \"Describe some of the business applications of Generative AI\"}\n",
    "]"
   ]
  },
  {
   "cell_type": "code",
   "execution_count": 4,
   "id": "7bb9c624-14f0-4945-a719-8ddb64f66f47",
   "metadata": {},
   "outputs": [],
   "source": [
    "payload = {\n",
    "        \"model\": MODEL,\n",
    "        \"messages\": messages,\n",
    "        \"stream\": False\n",
    "    }"
   ]
  },
  {
   "cell_type": "code",
   "execution_count": null,
   "id": "479ff514-e8bd-4985-a572-2ea28bb4fa40",
   "metadata": {},
   "outputs": [],
   "source": [
    "# Let's just make sure the model is loaded\n",
    "\n",
    "!ollama pull llama3.2"
   ]
  },
  {
   "cell_type": "code",
   "execution_count": null,
   "id": "42b9f644-522d-4e05-a691-56e7658c0ea9",
   "metadata": {},
   "outputs": [],
   "source": [
    "# If this doesn't work for any reason, try the 2 versions in the following cells\n",
    "# And double check the instructions in the 'Recap on installation of Ollama' at the top of this lab\n",
    "# And if none of that works - contact me!\n",
    "\n",
    "response = requests.post(OLLAMA_API, json=payload, headers=HEADERS)\n",
    "print(response.json()['message']['content'])"
   ]
  },
  {
   "cell_type": "markdown",
   "id": "6a021f13-d6a1-4b96-8e18-4eae49d876fe",
   "metadata": {},
   "source": [
    "# Introducing the ollama package\n",
    "\n",
    "And now we'll do the same thing, but using the elegant ollama python package instead of a direct HTTP call.\n",
    "\n",
    "Under the hood, it's making the same call as above to the ollama server running at localhost:11434"
   ]
  },
  {
   "cell_type": "code",
   "execution_count": 6,
   "id": "7745b9c4-57dc-4867-9180-61fa5db55eb8",
   "metadata": {},
   "outputs": [
    {
     "name": "stdout",
     "output_type": "stream",
     "text": [
      "Generative AI has numerous business applications across various industries, including:\n",
      "\n",
      "1. **Content Creation**: Generative AI can generate high-quality content such as articles, social media posts, and product descriptions, saving time and resources for content creators.\n",
      "2. **Image and Video Generation**: AI-powered tools can create realistic images and videos for advertising, marketing, and entertainment purposes, reducing the need for manual editing and retouching.\n",
      "3. **Personalized Recommendations**: Generative AI can analyze customer data and preferences to provide personalized product recommendations, enhancing user experience and driving sales.\n",
      "4. **Chatbots and Virtual Assistants**: AI-powered chatbots can help customers with queries, provide support, and automate tasks, reducing the need for human customer service representatives.\n",
      "5. **Product Design and Development**: Generative AI can assist in designing new products by generating 3D models, CAD files, and prototypes, streamlining the design process and reducing costs.\n",
      "6. **Marketing Automation**: Generative AI can help create customized marketing campaigns, including email templates, social media posts, and ad creative, automating marketing efforts and improving ROI.\n",
      "7. **Music and Audio Generation**: AI-powered tools can generate music, sound effects, and voiceovers for videos, films, and advertisements, reducing the need for human talent and equipment.\n",
      "8. **Language Translation**: Generative AI can translate text, speech, and even entire documents in real-time, breaking language barriers and facilitating global communication.\n",
      "9. **Customer Segmentation and Profiling**: AI-powered tools can analyze customer data to identify patterns, preferences, and behaviors, helping businesses tailor their marketing efforts and improve sales.\n",
      "10. **Predictive Maintenance and Quality Control**: Generative AI can analyze sensor data from machines and equipment to predict maintenance needs, reducing downtime and improving overall efficiency.\n",
      "11. **Document Generation**: AI-powered tools can generate contracts, invoices, and other documents in minutes, automating administrative tasks and freeing up staff time for more strategic activities.\n",
      "12. **Financial Analysis and Forecasting**: Generative AI can analyze financial data to identify trends, predict outcomes, and make informed investment decisions, helping businesses stay ahead of the competition.\n",
      "\n",
      "These are just a few examples of the many business applications of Generative AI. As the technology continues to evolve, we can expect even more innovative solutions to emerge across various industries.\n"
     ]
    }
   ],
   "source": [
    "import ollama\n",
    "\n",
    "response = ollama.chat(model=MODEL, messages=messages)\n",
    "print(response['message']['content'])"
   ]
  },
  {
   "cell_type": "markdown",
   "id": "a4704e10-f5fb-4c15-a935-f046c06fb13d",
   "metadata": {},
   "source": [
    "## Alternative approach - using OpenAI python library to connect to Ollama"
   ]
  },
  {
   "cell_type": "code",
   "execution_count": 7,
   "id": "23057e00-b6fc-4678-93a9-6b31cb704bff",
   "metadata": {},
   "outputs": [
    {
     "name": "stdout",
     "output_type": "stream",
     "text": [
      "Generative AI (Generative Artificial Intelligence) has numerous business applications across various industries. Here are some examples:\n",
      "\n",
      "1. **Product Design and Manufacturing**: Generative AI can be used to design new products, such as furniture, electronics, or medical devices. It can also facilitate rapid prototyping, reducing the time and cost associated with traditional product development methods.\n",
      "2. **Content Creation**: Generative AI can generate high-quality content, including:\n",
      " * Text: Articles, blog posts, social media posts, and more\n",
      " * Images: Photos, graphics, and videos\n",
      " * Music and Audio: Composed or generated soundtracks for films, TV shows, or marketing campaigns\n",
      "3. **Marketing and Advertising**:\n",
      " * Personalized Ad Generation: AI can generate ad copy, images, and messages tailored to specific customer segments.\n",
      " * Social Media Management: Generative AI can help create engaging social media content, such as memes, GIFs, and videos.\n",
      "4. **Financial Services**:\n",
      " * Risk Assessment and Underwriting: Generative AI can analyze vast amounts of data to assess credit risk, predict probability of default, and provide personalized underwriting recommendations.\n",
      " * Portfolio Optimization: AI can generate optimal investment strategies based on historical market trends, economic conditions, and customer profiles.\n",
      "5. **Healthcare**:\n",
      " * Medical Imaging Analysis: Generative AI can analyze medical images, such as X-rays or CT scans, to help detect diseases like cancer at an early stage.\n",
      " * Personalized Medicine: AI can generate tailored treatment plans for patients based on their genetic profiles, medical histories, and lifestyle data.\n",
      "6. **Supply Chain Management**:\n",
      " * Predictive Maintenance: Generative AI can analyze sensor data from equipment to predict maintenance needs, reducing downtime and improving efficiency.\n",
      " * Demand Forecasting: AI can forecast demand trends, allowing businesses to optimize inventory levels, shipping schedules, and production capacity.\n",
      "7. **Education and Training**: Generative AI can create customized learning content, such as:\n",
      " * Adaptive Learning Platforms: AI generates personalized lesson plans, exercises, and assessments based on individual students' performance.\n",
      "8. **Cybersecurity**:\n",
      " * Threat Detection: Generative AI can analyze network traffic patterns to identify potential security threats in real-time.\n",
      " * Incident Response: AI can help respond to cyber attacks by analyzing threat signals, predicting attack patterns, and recommending mitigation strategies.\n",
      "\n",
      "These are just a few examples of the many business applications of Generative AI. As the technology continues to evolve, we can expect even more innovative uses cases across various industries.\n"
     ]
    }
   ],
   "source": [
    "# There's actually an alternative approach that some people might prefer\n",
    "# You can use the OpenAI client python library to call Ollama:\n",
    "\n",
    "from openai import OpenAI\n",
    "ollama_via_openai = OpenAI(base_url='http://localhost:11434/v1', api_key='ollama')\n",
    "\n",
    "response = ollama_via_openai.chat.completions.create(\n",
    "    model=MODEL,\n",
    "    messages=messages\n",
    ")\n",
    "\n",
    "print(response.choices[0].message.content)"
   ]
  },
  {
   "cell_type": "markdown",
   "id": "1622d9bb-5c68-4d4e-9ca4-b492c751f898",
   "metadata": {},
   "source": [
    "# NOW the exercise for you\n",
    "\n",
    "Take the code from day1 and incorporate it here, to build a website summarizer that uses Llama 3.2 running locally instead of OpenAI; use either of the above approaches."
   ]
  },
  {
   "cell_type": "code",
   "execution_count": 8,
   "id": "402d5686-4e76-4110-b65a-b3906c35c0a4",
   "metadata": {},
   "outputs": [],
   "source": [
    "import os\n",
    "import requests\n",
    "from dotenv import load_dotenv\n",
    "from bs4 import BeautifulSoup\n",
    "from IPython.display import Markdown, display\n",
    "from openai import OpenAI"
   ]
  },
  {
   "cell_type": "code",
   "execution_count": 9,
   "id": "199e5886-619c-46a6-814e-071f303293ab",
   "metadata": {},
   "outputs": [],
   "source": [
    "headers = {\n",
    " \"User-Agent\": \"Mozilla/5.0 (Windows NT 10.0; Win64; x64) AppleWebKit/537.36 (KHTML, like Gecko) Chrome/117.0.0.0 Safari/537.36\"\n",
    "}\n",
    "\n",
    "class Website:\n",
    "\n",
    "    def __init__(self, url):\n",
    "        \"\"\"\n",
    "        Create this Website object from the given url using the BeautifulSoup library\n",
    "        \"\"\"\n",
    "        self.url = url\n",
    "        response = requests.get(url, headers=headers)\n",
    "        soup = BeautifulSoup(response.content, 'html.parser')\n",
    "        self.title = soup.title.string if soup.title else \"No title found\"\n",
    "        for irrelevant in soup.body([\"script\", \"style\", \"img\", \"input\"]):\n",
    "            irrelevant.decompose()\n",
    "        self.text = soup.body.get_text(separator=\"\\n\", strip=True)"
   ]
  },
  {
   "cell_type": "code",
   "execution_count": 12,
   "id": "f36eef71-2b79-48a2-8d1a-8534a86c20d1",
   "metadata": {
    "collapsed": true,
    "jupyter": {
     "outputs_hidden": true
    }
   },
   "outputs": [
    {
     "name": "stdout",
     "output_type": "stream",
     "text": [
      "Home - Edward Donner\n",
      "Home\n",
      "Outsmart\n",
      "An arena that pits LLMs against each other in a battle of diplomacy and deviousness\n",
      "About\n",
      "Posts\n",
      "Well, hi there.\n",
      "I’m Ed. I like writing code and experimenting with LLMs, and hopefully you’re here because you do too. I also enjoy DJing (but I’m badly out of practice), amateur electronic music production (\n",
      "very\n",
      "amateur) and losing myself in\n",
      "Hacker News\n",
      ", nodding my head sagely to things I only half understand.\n",
      "I’m the co-founder and CTO of\n",
      "Nebula.io\n",
      ". We’re applying AI to a field where it can make a massive, positive impact: helping people discover their potential and pursue their reason for being. Recruiters use our product today to source, understand, engage and manage talent. I’m previously the founder and CEO of AI startup untapt,\n",
      "acquired in 2021\n",
      ".\n",
      "We work with groundbreaking, proprietary LLMs verticalized for talent, we’ve\n",
      "patented\n",
      "our matching model, and our award-winning platform has happy customers and tons of press coverage.\n",
      "Connect\n",
      "with me for more!\n",
      "December 21, 2024\n",
      "Welcome, SuperDataScientists!\n",
      "November 13, 2024\n",
      "Mastering AI and LLM Engineering – Resources\n",
      "October 16, 2024\n",
      "From Software Engineer to AI Data Scientist – resources\n",
      "August 6, 2024\n",
      "Outsmart LLM Arena – a battle of diplomacy and deviousness\n",
      "Navigation\n",
      "Home\n",
      "Outsmart\n",
      "An arena that pits LLMs against each other in a battle of diplomacy and deviousness\n",
      "About\n",
      "Posts\n",
      "Get in touch\n",
      "ed [at] edwarddonner [dot] com\n",
      "www.edwarddonner.com\n",
      "Follow me\n",
      "LinkedIn\n",
      "Twitter\n",
      "Facebook\n",
      "Subscribe to newsletter\n",
      "Type your email…\n",
      "Subscribe\n"
     ]
    }
   ],
   "source": [
    "ed = Website(\"https://edwarddonner.com\")\n",
    "print(ed.title)\n",
    "print(ed.text)"
   ]
  },
  {
   "cell_type": "code",
   "execution_count": 11,
   "id": "eafc5019-e20b-4c60-83f1-4b182ccfd8e2",
   "metadata": {},
   "outputs": [],
   "source": [
    "system_prompt = \"You are an assistant that analyzes the contents of a website \\\n",
    "and provides a short summary, ignoring text that might be navigation related. \\\n",
    "Respond in markdown.\""
   ]
  },
  {
   "cell_type": "code",
   "execution_count": 13,
   "id": "06c51d50-2168-4be8-a45d-e81010e65ec0",
   "metadata": {},
   "outputs": [],
   "source": [
    "def user_prompt_for(website):\n",
    "    user_prompt = f\"You are looking at a website titled {website.title}\"\n",
    "    user_prompt += \"\\nThe contents of this website is as follows; \\\n",
    "please provide a short summary of this website in markdown. \\\n",
    "If it includes news or announcements, then summarize these too.\\n\\n\"\n",
    "    user_prompt += website.text\n",
    "    return user_prompt"
   ]
  },
  {
   "cell_type": "code",
   "execution_count": 14,
   "id": "210d35fd-dccf-404b-a73c-9fc6bc5d2127",
   "metadata": {},
   "outputs": [],
   "source": [
    "def messages_for(website):\n",
    "    return [\n",
    "        {\"role\": \"system\", \"content\": system_prompt},\n",
    "        {\"role\": \"user\", \"content\": user_prompt_for(website)}\n",
    "    ]"
   ]
  },
  {
   "cell_type": "code",
   "execution_count": 17,
   "id": "1f723351-ff8a-4496-bd13-f651381a1eee",
   "metadata": {},
   "outputs": [],
   "source": [
    "def summarize(url):\n",
    "    website = Website(url)\n",
    "    response = ollama_via_openai.chat.completions.create(\n",
    "        model = MODEL,\n",
    "        messages = messages_for(website)\n",
    "    )\n",
    "    return response.choices[0].message.content"
   ]
  },
  {
   "cell_type": "code",
   "execution_count": 18,
   "id": "ea2baeed-de07-4f2a-9985-399a23ddf60f",
   "metadata": {},
   "outputs": [
    {
     "data": {
      "text/plain": [
       "'**Summary of Edward Donner\\'s Website**\\n=====================================\\n\\n### About the Founder\\n\\n*Edward Donner is a co-founder and CTO of Nebula.io, an AI startup that applies machine learning to help people discover their potential.*\\n*He has previously founded and CEO of AI startup untapt, which was acquired in 2021.*\\n\\n### News and Announcements\\n---------------------------\\n\\n* **December 21, 2024:** \"Welcome, SuperDataScientists!\" (a welcome message for newsletter subscribers)\\n* **November 13, 2024:** Mastering AI and LLM Engineering – Resources (an announcement about a new page with resources)\\n* **October 16, 2024:** From Software Engineer to AI Data Scientist – resources (another announcement about a new page with resources)\\n* **August 6, 2024:** Outsmart LLM Arena – a battle of diplomacy and deviousness (an introduction to the website\\'s flagship product: an arena for battling large language models)\\n\\n### Website Content\\n\\nThe website features:\\n\\n* **Personal touches**: photos of Edward DJing, amateur electronic music production, and his interests in AI-related topics.\\n* **Company information**: Nebula.io is a company that uses AI to help people discover their potential, and offers recruitment services for talent.\\n* **Products and services**: an award-winning platform with proprietary LLMs technology.'"
      ]
     },
     "execution_count": 18,
     "metadata": {},
     "output_type": "execute_result"
    }
   ],
   "source": [
    "summarize(\"https://edwarddonner.com\")"
   ]
  },
  {
   "cell_type": "code",
   "execution_count": 20,
   "id": "c4ad1b0b-1a67-4702-8dcb-925d770193ad",
   "metadata": {},
   "outputs": [],
   "source": [
    "def display_summary(url):\n",
    "    summary = summarize(url)\n",
    "    display(Markdown(summary))"
   ]
  },
  {
   "cell_type": "code",
   "execution_count": 21,
   "id": "1f690afb-51a5-4183-8671-2e010171d032",
   "metadata": {},
   "outputs": [
    {
     "data": {
      "text/markdown": [
       "### Summary of the Website\n",
       "\n",
       "#### About the Founder and Company\n",
       "Ed Donner is the co-founder and CTO of Nebula.io, a startup applying AI to help people discover their potential. He previously founded and CEOed AI startup untapt, acquired in 2021.\n",
       "\n",
       "#### Recent NewsAnnouncements\n",
       "\n",
       "* December 21, 2024: Welcome message for \"SuperDataScientists!\"\n",
       "* November 13, 2024: Announcement about resources for mastering AI and LLM engineering.\n",
       "* October 16, 2024: Resources from software engineer to AI data scientist.\n",
       "* August 6, 2024: Outsmart Arena is a battle of diplomacy and deviousness.\n",
       "\n",
       "#### Website Content\n",
       "The website features Ed's personal information, company updates, and recent news announcements. It also includes an \"Outsmart\" section with articles and links about LLMs and the game-like arena where they compete against each other.\n",
       "\n",
       "#### Navigation Links\n",
       "* Contact information (email, LinkedIn, Twitter, Facebook)\n",
       "* Newsletter subscription\n",
       "\n",
       "Note that I've ignored navigation-related sections (\"Navigation\") and focused on summarizing the website's content."
      ],
      "text/plain": [
       "<IPython.core.display.Markdown object>"
      ]
     },
     "metadata": {},
     "output_type": "display_data"
    }
   ],
   "source": [
    "display_summary(\"https://edwarddonner.com\")"
   ]
  },
  {
   "cell_type": "code",
   "execution_count": null,
   "id": "cf7955e7-22d1-4cdc-a97b-bc97bd0aa439",
   "metadata": {},
   "outputs": [],
   "source": []
  }
 ],
 "metadata": {
  "kernelspec": {
   "display_name": "Python 3 (ipykernel)",
   "language": "python",
   "name": "python3"
  },
  "language_info": {
   "codemirror_mode": {
    "name": "ipython",
    "version": 3
   },
   "file_extension": ".py",
   "mimetype": "text/x-python",
   "name": "python",
   "nbconvert_exporter": "python",
   "pygments_lexer": "ipython3",
   "version": "3.11.11"
  }
 },
 "nbformat": 4,
 "nbformat_minor": 5
}
